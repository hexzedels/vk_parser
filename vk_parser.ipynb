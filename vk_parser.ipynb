{
 "cells": [
  {
   "cell_type": "code",
   "execution_count": null,
   "metadata": {},
   "outputs": [],
   "source": [
    "import vk\n",
    "import numpy as np\n",
    "import pandas as pd\n",
    "import json\n",
    "data = pd.DataFrame(columns=['ids', 'first_name', 'last_name', 'is_closed', 'bdate', 'sex', 'city_id', 'country_id' ])"
   ]
  },
  {
   "cell_type": "code",
   "execution_count": null,
   "metadata": {},
   "outputs": [],
   "source": [
    "def token_init(token): \n",
    "    global vk_api\n",
    "    session = vk.Session(access_token=token)\n",
    "    vk_api = vk.API(session)"
   ]
  },
  {
   "cell_type": "code",
   "execution_count": null,
   "metadata": {},
   "outputs": [],
   "source": [
    "def get_members(groupid): #create list of ids of reqired group\n",
    "    first = vk_api.groups.getMembers(group_id=groupid, v=5.92)\n",
    "    group_m = first[\"items\"]  \n",
    "    count = np.floor_divide(first[\"count\"],1000)\n",
    "    \n",
    "    for i in range(1, count+1):  \n",
    "        group_m = group_m + vk_api.groups.getMembers(group_id=groupid, v=5.92, offset=i*1000)[\"items\"]\n",
    "    return group_m"
   ]
  },
  {
   "cell_type": "code",
   "execution_count": null,
   "metadata": {},
   "outputs": [],
   "source": [
    "def arrays_init(number):\n",
    "    global ids_new\n",
    "    ids_new = pd.Series(number)\n",
    "    global first_names\n",
    "    first_names = pd.Series(number, dtype=object)\n",
    "    global last_names\n",
    "    last_names=pd.Series(number, dtype=object)\n",
    "    global bdates\n",
    "    bdates = pd.Series(number, dtype=object)\n",
    "    global sex \n",
    "    sex = pd.Series(number, dtype=np.int64)\n",
    "    global city_ids\n",
    "    city_ids = pd.Series(number, dtype=np.int64)\n",
    "    global country_ids\n",
    "    country_ids = pd.Series(number, dtype=np.int64)\n",
    "    global is_closeds\n",
    "    is_closeds = pd.Series(number,dtype=bool)#create list of indexes for providing users.get"
   ]
  },
  {
   "cell_type": "code",
   "execution_count": null,
   "metadata": {},
   "outputs": [],
   "source": [
    "def index(ids_file):\n",
    "    global data1\n",
    "    data1 = []\n",
    "    count= np.floor_divide(len(ids_file), 900)\n",
    "    index=np.zeros((count+1,2))\n",
    "    \n",
    "    for i in range(count):\n",
    "        index[(i,0)]=i*900\n",
    "        index[(i,1)]=(i+1)*900\n",
    "    index[(count,0)]=count*900\n",
    "    index[(count,1)]=len(ids_file)\n",
    "    \n",
    "    for i in range(count+1):\n",
    "        data1[int(index[(i,0)]):int(index[(i,1)])] = vk_api.users.get(user_ids=ids_file[int(index[(i,0)]):int(index[(i,1)])],fields = 'bdate, city, country, sex', v=5.92)"
   ]
  },
  {
   "cell_type": "code",
   "execution_count": null,
   "metadata": {},
   "outputs": [],
   "source": [
    "def sorting(number):\n",
    "    for i in range(number):\n",
    "        try:\n",
    "            ids_new[i] = data1[i]['id']\n",
    "            first_names[i] = data1[i]['first_name']\n",
    "            last_names[i] = data1[i]['last_name']\n",
    "            sex[i] = data1[i]['sex']\n",
    "            is_closeds[i] = data1[i]['is_closed']\n",
    "            city_ids[i] = data1[i]['city']['id']\n",
    "            country_ids[i] = data1[i]['country']['id']\n",
    "            bdates[i]= data1[i]['bdate']\n",
    "        except KeyError:\n",
    "            pass"
   ]
  },
  {
   "cell_type": "code",
   "execution_count": null,
   "metadata": {},
   "outputs": [],
   "source": [
    "def data_init():    \n",
    "    data['ids']=ids_new\n",
    "    data['first_name'] = first_names\n",
    "    data['last_name'] = last_names\n",
    "    data['sex'] = sex\n",
    "    data['city_id'] = city_ids\n",
    "    data['country_id'] = country_ids\n",
    "    data['is_closed'] = is_closeds\n",
    "    data['bdate'] = bdates"
   ]
  },
  {
   "cell_type": "code",
   "execution_count": null,
   "metadata": {},
   "outputs": [],
   "source": [
    "def export(format_file, type_):\n",
    "    if type_ == 0:\n",
    "        with open(\"jsonbase.json\", \"wb\") as f:\n",
    "                f.write(json.dumps(data1).encode(\"utf-8\"))\n",
    "    elif type_ == 1:\n",
    "        if format_file == \"csv\":\n",
    "            data.to_csv(\"database.csv\", index=False)\n",
    "        elif format_file == \"excel\":\n",
    "            data.to_excel(\"database.xlsx\", index=False)\n",
    "        else:\n",
    "            print(\"Wrong format\")\n",
    "    elif type_ == 2:\n",
    "        if format_file == \"csv\":\n",
    "            data.to_csv(\"database.csv\", index=False)\n",
    "            with open(\"jsonbase.json\", \"wb\") as f:\n",
    "                f.write(json.dumps(data1).encode(\"utf-8\"))\n",
    "        elif format_file == \"excel\":\n",
    "            data.to_excel(\"database.xlsx\", index=False)\n",
    "            with open(\"jsonbase.json\", \"wb\") as f:\n",
    "                f.write(json.dumps(data1).encode(\"utf-8\"))\n",
    "        else:\n",
    "            print(\"Wrong format\")\n",
    "    else:\n",
    "        print(\"You haven't entered proper input\")"
   ]
  },
  {
   "cell_type": "code",
   "execution_count": null,
   "metadata": {},
   "outputs": [],
   "source": [
    "def deactivated_find(number):  \n",
    "    with open('jsonbase.json', 'r+') as f:\n",
    "        data1 = json.loads(f.read())\n",
    "    \n",
    "    global deactivated\n",
    "    deactivated = np.zeros(number, dtype = np.int64)\n",
    "    for i in range(number):\n",
    "        try:\n",
    "            if data1[i]['deactivated'] == \"banned\" or data1[i]['deactivated'] == \"deleted\":\n",
    "                deactivated[i] = data1[i]['id']\n",
    "        except KeyError:\n",
    "            pass"
   ]
  },
  {
   "cell_type": "code",
   "execution_count": null,
   "metadata": {},
   "outputs": [],
   "source": [
    "def  deactivated_sort(number):   \n",
    "    for i in range(number):\n",
    "        if deactivated[i] != 0:\n",
    "            data.loc[i,'ids'] = np.nan"
   ]
  },
  {
   "cell_type": "code",
   "execution_count": null,
   "metadata": {},
   "outputs": [],
   "source": [
    "def control(token,group,number,format_file, type_):\n",
    "    token_init(token)\n",
    "    ids=get_members(group) #short name or id of required group\n",
    "    arrays_init(number) #give file with ids\n",
    "    index(ids) #give file with ids\n",
    "    sorting(number) #give number of people to sort\n",
    "    data_init() #give file with ids\n",
    "    export(format_file, type_) \n",
    "    deactivated_find(number)\n",
    "    deactivated_sort(number)\n",
    "    "
   ]
  },
  {
   "cell_type": "code",
   "execution_count": null,
   "metadata": {},
   "outputs": [],
   "source": [
    "if __name__ == \"__main__\":\n",
    "    token = \"\" #enter your token\n",
    "    group = \"\"#enter shorname or groupid(without \"\") of required group\n",
    "    number =  #enter number of people needed to sort\n",
    "    format_file = \"csv\" # csv or excel\n",
    "    type_ = 2 # 0 for saving jsonbase.json with unsorted data | 1 for saving database.csv sorted data | 2 for both  \n",
    "    control(token, group, number, format_file, type_)#enter groupid, number of people to sort, file format to save data "
   ]
  },
  {
   "cell_type": "code",
   "execution_count": null,
   "metadata": {},
   "outputs": [],
   "source": [
    "from datetime import datetime\n",
    "\n",
    "bdata = np.zeros(len(data['bdate']), dtype = np.int32)\n",
    "\n",
    "def parse_bdate():\n",
    "    for i in range(len(bdates)):\n",
    "        if bdates.get_values()[i].count('.') > 1: # Filter by year existance\n",
    "            user_byear = int(bdates.get_values()[i].split('.')[2]) # Get year from date string\n",
    "            if user_byear > 1980: # Check year on correctness\n",
    "                bdata[i] = user_byear\n",
    "            "
   ]
  },
  {
   "cell_type": "code",
   "execution_count": null,
   "metadata": {},
   "outputs": [],
   "source": [
    "parse_bdate()\n",
    "\n",
    "print(bdata)"
   ]
  },
  {
   "cell_type": "code",
   "execution_count": null,
   "metadata": {},
   "outputs": [],
   "source": []
  }
 ],
 "metadata": {
  "kernelspec": {
   "display_name": "Python 3",
   "language": "python",
   "name": "python3"
  },
  "language_info": {
   "codemirror_mode": {
    "name": "ipython",
    "version": 3
   },
   "file_extension": ".py",
   "mimetype": "text/x-python",
   "name": "python",
   "nbconvert_exporter": "python",
   "pygments_lexer": "ipython3",
   "version": "3.7.0"
  }
 },
 "nbformat": 4,
 "nbformat_minor": 2
}
